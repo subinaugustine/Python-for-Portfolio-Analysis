{
 "cells": [
  {
   "cell_type": "markdown",
   "metadata": {},
   "source": [
    "# Obtaining the Efficient Frontier using Python"
   ]
  },
  {
   "cell_type": "code",
   "execution_count": 45,
   "metadata": {},
   "outputs": [],
   "source": [
    "import numpy as np\n",
    "import pandas as pd\n",
    "from pandas_datareader import data as wb\n",
    "import matplotlib.pyplot as plt\n",
    "%matplotlib inline"
   ]
  },
  {
   "cell_type": "markdown",
   "metadata": {},
   "source": [
    "### Download stock data"
   ]
  },
  {
   "cell_type": "code",
   "execution_count": 3,
   "metadata": {},
   "outputs": [],
   "source": [
    "# Download stock price data for Amazon, Google and Facebook\n",
    "stock = ['amzn','Googl', 'fb']\n",
    "stockprice=pd.DataFrame()\n",
    "for a in stock:\n",
    "    stockprice[a] = wb.DataReader(a, data_source='yahoo',start='2014-1-1')['Adj Close']"
   ]
  },
  {
   "cell_type": "code",
   "execution_count": 4,
   "metadata": {},
   "outputs": [
    {
     "data": {
      "text/html": [
       "<div>\n",
       "<style scoped>\n",
       "    .dataframe tbody tr th:only-of-type {\n",
       "        vertical-align: middle;\n",
       "    }\n",
       "\n",
       "    .dataframe tbody tr th {\n",
       "        vertical-align: top;\n",
       "    }\n",
       "\n",
       "    .dataframe thead th {\n",
       "        text-align: right;\n",
       "    }\n",
       "</style>\n",
       "<table border=\"1\" class=\"dataframe\">\n",
       "  <thead>\n",
       "    <tr style=\"text-align: right;\">\n",
       "      <th></th>\n",
       "      <th>amzn</th>\n",
       "      <th>Googl</th>\n",
       "      <th>fb</th>\n",
       "    </tr>\n",
       "    <tr>\n",
       "      <th>Date</th>\n",
       "      <th></th>\n",
       "      <th></th>\n",
       "      <th></th>\n",
       "    </tr>\n",
       "  </thead>\n",
       "  <tbody>\n",
       "    <tr>\n",
       "      <th>2014-01-02</th>\n",
       "      <td>397.970001</td>\n",
       "      <td>557.117126</td>\n",
       "      <td>54.709999</td>\n",
       "    </tr>\n",
       "    <tr>\n",
       "      <th>2014-01-03</th>\n",
       "      <td>396.440002</td>\n",
       "      <td>553.053040</td>\n",
       "      <td>54.560001</td>\n",
       "    </tr>\n",
       "    <tr>\n",
       "      <th>2014-01-06</th>\n",
       "      <td>393.630005</td>\n",
       "      <td>559.219238</td>\n",
       "      <td>57.200001</td>\n",
       "    </tr>\n",
       "    <tr>\n",
       "      <th>2014-01-07</th>\n",
       "      <td>398.029999</td>\n",
       "      <td>570.000000</td>\n",
       "      <td>57.919998</td>\n",
       "    </tr>\n",
       "    <tr>\n",
       "      <th>2014-01-08</th>\n",
       "      <td>401.920013</td>\n",
       "      <td>571.186157</td>\n",
       "      <td>58.230000</td>\n",
       "    </tr>\n",
       "  </tbody>\n",
       "</table>\n",
       "</div>"
      ],
      "text/plain": [
       "                  amzn       Googl         fb\n",
       "Date                                         \n",
       "2014-01-02  397.970001  557.117126  54.709999\n",
       "2014-01-03  396.440002  553.053040  54.560001\n",
       "2014-01-06  393.630005  559.219238  57.200001\n",
       "2014-01-07  398.029999  570.000000  57.919998\n",
       "2014-01-08  401.920013  571.186157  58.230000"
      ]
     },
     "execution_count": 4,
     "metadata": {},
     "output_type": "execute_result"
    }
   ],
   "source": [
    "stockprice.head()"
   ]
  },
  {
   "cell_type": "markdown",
   "metadata": {},
   "source": [
    "### Calculate daily returns"
   ]
  },
  {
   "cell_type": "code",
   "execution_count": 5,
   "metadata": {},
   "outputs": [
    {
     "data": {
      "text/plain": [
       "array([0.17013925, 0.61208408, 0.21777667])"
      ]
     },
     "execution_count": 5,
     "metadata": {},
     "output_type": "execute_result"
    }
   ],
   "source": [
    "log_returns= np.log(stockprice/stockprice.shift(1))\n",
    "len_stocks=len(stock)\n",
    "# Generate random weights for the stocks in the portfolio, Sum should be one\n",
    "weights=np.random.random(len_stocks)\n",
    "weights/=np.sum(weights)\n",
    "weights"
   ]
  },
  {
   "cell_type": "markdown",
   "metadata": {},
   "source": [
    "### Expected Portfolio return"
   ]
  },
  {
   "cell_type": "code",
   "execution_count": 6,
   "metadata": {},
   "outputs": [
    {
     "data": {
      "text/plain": [
       "0.180192094856444"
      ]
     },
     "execution_count": 6,
     "metadata": {},
     "output_type": "execute_result"
    }
   ],
   "source": [
    "portfolio_ret=np.sum(weights*log_returns.mean())*250\n",
    "portfolio_ret"
   ]
  },
  {
   "cell_type": "markdown",
   "metadata": {},
   "source": [
    "### Expected Portfolio Variance"
   ]
  },
  {
   "cell_type": "code",
   "execution_count": 7,
   "metadata": {},
   "outputs": [
    {
     "data": {
      "text/plain": [
       "0.050339918544611804"
      ]
     },
     "execution_count": 7,
     "metadata": {},
     "output_type": "execute_result"
    }
   ],
   "source": [
    "portfolio_var = np.dot(weights.T, np.dot(log_returns.cov() * 250, weights))\n",
    "portfolio_var"
   ]
  },
  {
   "cell_type": "markdown",
   "metadata": {},
   "source": [
    "### Expected Portfolio Volatility"
   ]
  },
  {
   "cell_type": "code",
   "execution_count": 8,
   "metadata": {},
   "outputs": [
    {
     "data": {
      "text/plain": [
       "0.22436559126704747"
      ]
     },
     "execution_count": 8,
     "metadata": {},
     "output_type": "execute_result"
    }
   ],
   "source": [
    "portfolio_vol = np.sqrt(np.dot(weights.T, np.dot(log_returns.cov() * 250, weights)))\n",
    "portfolio_vol"
   ]
  },
  {
   "cell_type": "markdown",
   "metadata": {},
   "source": [
    "### Generating the efficient frontier portfolio by calculating Returns and volatility for 1000 different portfolios"
   ]
  },
  {
   "cell_type": "code",
   "execution_count": 9,
   "metadata": {},
   "outputs": [],
   "source": [
    "pf_returns =[]\n",
    "pf_vol = []\n",
    "pf_weights = []\n",
    "\n",
    "#Generate 1000 different portfolios. Generate random weight combinations, all adding up to 1 \n",
    "# calculate portfolio returns and volatility for each portfolio using the weights\n",
    "for x in range(1000):\n",
    "    weights=np.random.random(len_stocks)\n",
    "    weights/=np.sum(weights)\n",
    "    pf_weights.append(weights)\n",
    "    pf_returns.append(np.sum(weights * log_returns.mean()) * 250)\n",
    "    pf_vol.append(np.sqrt(np.dot(weights.T,np.dot(log_returns.cov() * 250, weights))))\n",
    "\n"
   ]
  },
  {
   "cell_type": "code",
   "execution_count": 17,
   "metadata": {},
   "outputs": [],
   "source": [
    "#List the portfolios as a dataframe\n",
    "df = pd.DataFrame(pf_weights, columns = stock)"
   ]
  },
  {
   "cell_type": "code",
   "execution_count": 38,
   "metadata": {},
   "outputs": [
    {
     "data": {
      "text/html": [
       "<div>\n",
       "<style scoped>\n",
       "    .dataframe tbody tr th:only-of-type {\n",
       "        vertical-align: middle;\n",
       "    }\n",
       "\n",
       "    .dataframe tbody tr th {\n",
       "        vertical-align: top;\n",
       "    }\n",
       "\n",
       "    .dataframe thead th {\n",
       "        text-align: right;\n",
       "    }\n",
       "</style>\n",
       "<table border=\"1\" class=\"dataframe\">\n",
       "  <thead>\n",
       "    <tr style=\"text-align: right;\">\n",
       "      <th></th>\n",
       "      <th>amzn</th>\n",
       "      <th>Googl</th>\n",
       "      <th>fb</th>\n",
       "      <th>Return</th>\n",
       "      <th>Volatility</th>\n",
       "    </tr>\n",
       "  </thead>\n",
       "  <tbody>\n",
       "    <tr>\n",
       "      <th>0</th>\n",
       "      <td>0.503835</td>\n",
       "      <td>0.338243</td>\n",
       "      <td>0.157921</td>\n",
       "      <td>0.209603</td>\n",
       "      <td>0.239128</td>\n",
       "    </tr>\n",
       "    <tr>\n",
       "      <th>1</th>\n",
       "      <td>0.578063</td>\n",
       "      <td>0.075784</td>\n",
       "      <td>0.346154</td>\n",
       "      <td>0.229350</td>\n",
       "      <td>0.255403</td>\n",
       "    </tr>\n",
       "    <tr>\n",
       "      <th>2</th>\n",
       "      <td>0.099217</td>\n",
       "      <td>0.431614</td>\n",
       "      <td>0.469169</td>\n",
       "      <td>0.189578</td>\n",
       "      <td>0.234620</td>\n",
       "    </tr>\n",
       "    <tr>\n",
       "      <th>3</th>\n",
       "      <td>0.162033</td>\n",
       "      <td>0.266301</td>\n",
       "      <td>0.571665</td>\n",
       "      <td>0.202568</td>\n",
       "      <td>0.244789</td>\n",
       "    </tr>\n",
       "    <tr>\n",
       "      <th>4</th>\n",
       "      <td>0.273489</td>\n",
       "      <td>0.257416</td>\n",
       "      <td>0.469095</td>\n",
       "      <td>0.206981</td>\n",
       "      <td>0.240249</td>\n",
       "    </tr>\n",
       "  </tbody>\n",
       "</table>\n",
       "</div>"
      ],
      "text/plain": [
       "       amzn     Googl        fb    Return  Volatility\n",
       "0  0.503835  0.338243  0.157921  0.209603    0.239128\n",
       "1  0.578063  0.075784  0.346154  0.229350    0.255403\n",
       "2  0.099217  0.431614  0.469169  0.189578    0.234620\n",
       "3  0.162033  0.266301  0.571665  0.202568    0.244789\n",
       "4  0.273489  0.257416  0.469095  0.206981    0.240249"
      ]
     },
     "execution_count": 38,
     "metadata": {},
     "output_type": "execute_result"
    }
   ],
   "source": [
    "#Add returns and volatility for each portfolio to the dataframe\n",
    "df['Return']=pf_returns\n",
    "df['Volatility']=pf_vol\n",
    "df.head()"
   ]
  },
  {
   "cell_type": "code",
   "execution_count": 19,
   "metadata": {},
   "outputs": [],
   "source": [
    "pf_returns = np.array(pf_returns)\n",
    "pf_vol = np.array(pf_vol)"
   ]
  },
  {
   "cell_type": "code",
   "execution_count": null,
   "metadata": {},
   "outputs": [],
   "source": []
  },
  {
   "cell_type": "code",
   "execution_count": 20,
   "metadata": {},
   "outputs": [
    {
     "data": {
      "text/html": [
       "<div>\n",
       "<style scoped>\n",
       "    .dataframe tbody tr th:only-of-type {\n",
       "        vertical-align: middle;\n",
       "    }\n",
       "\n",
       "    .dataframe tbody tr th {\n",
       "        vertical-align: top;\n",
       "    }\n",
       "\n",
       "    .dataframe thead th {\n",
       "        text-align: right;\n",
       "    }\n",
       "</style>\n",
       "<table border=\"1\" class=\"dataframe\">\n",
       "  <thead>\n",
       "    <tr style=\"text-align: right;\">\n",
       "      <th></th>\n",
       "      <th>amzn</th>\n",
       "      <th>Googl</th>\n",
       "      <th>fb</th>\n",
       "    </tr>\n",
       "  </thead>\n",
       "  <tbody>\n",
       "    <tr>\n",
       "      <th>0</th>\n",
       "      <td>0.503835</td>\n",
       "      <td>0.338243</td>\n",
       "      <td>0.157921</td>\n",
       "    </tr>\n",
       "    <tr>\n",
       "      <th>1</th>\n",
       "      <td>0.578063</td>\n",
       "      <td>0.075784</td>\n",
       "      <td>0.346154</td>\n",
       "    </tr>\n",
       "    <tr>\n",
       "      <th>2</th>\n",
       "      <td>0.099217</td>\n",
       "      <td>0.431614</td>\n",
       "      <td>0.469169</td>\n",
       "    </tr>\n",
       "    <tr>\n",
       "      <th>3</th>\n",
       "      <td>0.162033</td>\n",
       "      <td>0.266301</td>\n",
       "      <td>0.571665</td>\n",
       "    </tr>\n",
       "    <tr>\n",
       "      <th>4</th>\n",
       "      <td>0.273489</td>\n",
       "      <td>0.257416</td>\n",
       "      <td>0.469095</td>\n",
       "    </tr>\n",
       "  </tbody>\n",
       "</table>\n",
       "</div>"
      ],
      "text/plain": [
       "       amzn     Googl        fb\n",
       "0  0.503835  0.338243  0.157921\n",
       "1  0.578063  0.075784  0.346154\n",
       "2  0.099217  0.431614  0.469169\n",
       "3  0.162033  0.266301  0.571665\n",
       "4  0.273489  0.257416  0.469095"
      ]
     },
     "execution_count": 20,
     "metadata": {},
     "output_type": "execute_result"
    }
   ],
   "source": [
    "df.head()"
   ]
  },
  {
   "cell_type": "code",
   "execution_count": 35,
   "metadata": {},
   "outputs": [],
   "source": [
    "portfolios = pd.DataFrame({'Return': pf_returns, 'Volatility': pf_vol})"
   ]
  },
  {
   "cell_type": "code",
   "execution_count": 36,
   "metadata": {},
   "outputs": [
    {
     "data": {
      "text/html": [
       "<div>\n",
       "<style scoped>\n",
       "    .dataframe tbody tr th:only-of-type {\n",
       "        vertical-align: middle;\n",
       "    }\n",
       "\n",
       "    .dataframe tbody tr th {\n",
       "        vertical-align: top;\n",
       "    }\n",
       "\n",
       "    .dataframe thead th {\n",
       "        text-align: right;\n",
       "    }\n",
       "</style>\n",
       "<table border=\"1\" class=\"dataframe\">\n",
       "  <thead>\n",
       "    <tr style=\"text-align: right;\">\n",
       "      <th></th>\n",
       "      <th>Return</th>\n",
       "      <th>Volatility</th>\n",
       "    </tr>\n",
       "  </thead>\n",
       "  <tbody>\n",
       "    <tr>\n",
       "      <th>0</th>\n",
       "      <td>0.209603</td>\n",
       "      <td>0.239128</td>\n",
       "    </tr>\n",
       "    <tr>\n",
       "      <th>1</th>\n",
       "      <td>0.229350</td>\n",
       "      <td>0.255403</td>\n",
       "    </tr>\n",
       "    <tr>\n",
       "      <th>2</th>\n",
       "      <td>0.189578</td>\n",
       "      <td>0.234620</td>\n",
       "    </tr>\n",
       "    <tr>\n",
       "      <th>3</th>\n",
       "      <td>0.202568</td>\n",
       "      <td>0.244789</td>\n",
       "    </tr>\n",
       "    <tr>\n",
       "      <th>4</th>\n",
       "      <td>0.206981</td>\n",
       "      <td>0.240249</td>\n",
       "    </tr>\n",
       "  </tbody>\n",
       "</table>\n",
       "</div>"
      ],
      "text/plain": [
       "     Return  Volatility\n",
       "0  0.209603    0.239128\n",
       "1  0.229350    0.255403\n",
       "2  0.189578    0.234620\n",
       "3  0.202568    0.244789\n",
       "4  0.206981    0.240249"
      ]
     },
     "execution_count": 36,
     "metadata": {},
     "output_type": "execute_result"
    }
   ],
   "source": [
    "portfolios.head()"
   ]
  },
  {
   "cell_type": "code",
   "execution_count": 23,
   "metadata": {},
   "outputs": [
    {
     "data": {
      "text/plain": [
       "Text(0, 0.5, 'Expected Return')"
      ]
     },
     "execution_count": 23,
     "metadata": {},
     "output_type": "execute_result"
    },
    {
     "data": {
      "image/png": "[encoded data removed]",
      "text/plain": [
       "<Figure size 720x432 with 1 Axes>"
      ]
     },
     "metadata": {
      "needs_background": "light"
     },
     "output_type": "display_data"
    }
   ],
   "source": [
    "#Generate scatter plot using Return and Volatility for 1000 portfolios - Markowitz's Efficient Frontier\n",
    "portfolios.plot(x='Volatility', y='Return', kind='scatter', figsize=(10, 6));\n",
    "plt.xlabel('Expected Volatility')\n",
    "plt.ylabel('Expected Return')"
   ]
  },
  {
   "cell_type": "code",
   "execution_count": 39,
   "metadata": {},
   "outputs": [
    {
     "data": {
      "text/plain": [
       "Text(0, 0.5, 'Expected Return')"
      ]
     },
     "execution_count": 39,
     "metadata": {},
     "output_type": "execute_result"
    },
    {
     "data": {
      "image/png": "[encoded data removed]",
      "text/plain": [
       "<Figure size 720x432 with 1 Axes>"
      ]
     },
     "metadata": {
      "needs_background": "light"
     },
     "output_type": "display_data"
    }
   ],
   "source": [
    "##Generate scatter plot using Return and Volatility for 1000 different portfolios - Markowitz's Efficient Frontier\n",
    "df.plot(x='Volatility', y='Return', kind='scatter', figsize=(10, 6));\n",
    "plt.xlabel('Expected Volatility')\n",
    "plt.ylabel('Expected Return')"
   ]
  },
  {
   "cell_type": "code",
   "execution_count": 40,
   "metadata": {},
   "outputs": [],
   "source": [
    "# Calculate Return per risk\n",
    "df['Return/Risk']=df['Return']/df['Volatility']"
   ]
  },
  {
   "cell_type": "code",
   "execution_count": 41,
   "metadata": {},
   "outputs": [
    {
     "data": {
      "text/html": [
       "<div>\n",
       "<style scoped>\n",
       "    .dataframe tbody tr th:only-of-type {\n",
       "        vertical-align: middle;\n",
       "    }\n",
       "\n",
       "    .dataframe tbody tr th {\n",
       "        vertical-align: top;\n",
       "    }\n",
       "\n",
       "    .dataframe thead th {\n",
       "        text-align: right;\n",
       "    }\n",
       "</style>\n",
       "<table border=\"1\" class=\"dataframe\">\n",
       "  <thead>\n",
       "    <tr style=\"text-align: right;\">\n",
       "      <th></th>\n",
       "      <th>amzn</th>\n",
       "      <th>Googl</th>\n",
       "      <th>fb</th>\n",
       "      <th>Return</th>\n",
       "      <th>Volatility</th>\n",
       "      <th>Return/Risk</th>\n",
       "    </tr>\n",
       "  </thead>\n",
       "  <tbody>\n",
       "    <tr>\n",
       "      <th>0</th>\n",
       "      <td>0.503835</td>\n",
       "      <td>0.338243</td>\n",
       "      <td>0.157921</td>\n",
       "      <td>0.209603</td>\n",
       "      <td>0.239128</td>\n",
       "      <td>0.876531</td>\n",
       "    </tr>\n",
       "    <tr>\n",
       "      <th>1</th>\n",
       "      <td>0.578063</td>\n",
       "      <td>0.075784</td>\n",
       "      <td>0.346154</td>\n",
       "      <td>0.229350</td>\n",
       "      <td>0.255403</td>\n",
       "      <td>0.897994</td>\n",
       "    </tr>\n",
       "    <tr>\n",
       "      <th>2</th>\n",
       "      <td>0.099217</td>\n",
       "      <td>0.431614</td>\n",
       "      <td>0.469169</td>\n",
       "      <td>0.189578</td>\n",
       "      <td>0.234620</td>\n",
       "      <td>0.808023</td>\n",
       "    </tr>\n",
       "    <tr>\n",
       "      <th>3</th>\n",
       "      <td>0.162033</td>\n",
       "      <td>0.266301</td>\n",
       "      <td>0.571665</td>\n",
       "      <td>0.202568</td>\n",
       "      <td>0.244789</td>\n",
       "      <td>0.827519</td>\n",
       "    </tr>\n",
       "    <tr>\n",
       "      <th>4</th>\n",
       "      <td>0.273489</td>\n",
       "      <td>0.257416</td>\n",
       "      <td>0.469095</td>\n",
       "      <td>0.206981</td>\n",
       "      <td>0.240249</td>\n",
       "      <td>0.861526</td>\n",
       "    </tr>\n",
       "  </tbody>\n",
       "</table>\n",
       "</div>"
      ],
      "text/plain": [
       "       amzn     Googl        fb    Return  Volatility  Return/Risk\n",
       "0  0.503835  0.338243  0.157921  0.209603    0.239128     0.876531\n",
       "1  0.578063  0.075784  0.346154  0.229350    0.255403     0.897994\n",
       "2  0.099217  0.431614  0.469169  0.189578    0.234620     0.808023\n",
       "3  0.162033  0.266301  0.571665  0.202568    0.244789     0.827519\n",
       "4  0.273489  0.257416  0.469095  0.206981    0.240249     0.861526"
      ]
     },
     "execution_count": 41,
     "metadata": {},
     "output_type": "execute_result"
    }
   ],
   "source": [
    "df.head()"
   ]
  },
  {
   "cell_type": "code",
   "execution_count": 42,
   "metadata": {},
   "outputs": [
    {
     "data": {
      "text/plain": [
       "amzn           0.606935\n",
       "Googl          0.051169\n",
       "fb             0.341896\n",
       "Return         0.231955\n",
       "Volatility     0.258278\n",
       "Return/Risk    0.898084\n",
       "Name: 283, dtype: float64"
      ]
     },
     "execution_count": 42,
     "metadata": {},
     "output_type": "execute_result"
    }
   ],
   "source": [
    "# Find the portfolio giving maximum returns per risk\n",
    "df.loc[df['Return/Risk'].idxmax()]"
   ]
  },
  {
   "cell_type": "code",
   "execution_count": 44,
   "metadata": {},
   "outputs": [
    {
     "data": {
      "text/plain": [
       "amzn           0.146446\n",
       "Googl          0.706399\n",
       "fb             0.147155\n",
       "Return         0.173198\n",
       "Volatility     0.223958\n",
       "Return/Risk    0.773352\n",
       "Name: 690, dtype: float64"
      ]
     },
     "execution_count": 44,
     "metadata": {},
     "output_type": "execute_result"
    }
   ],
   "source": [
    "# Find portfolio with minimum volatility\n",
    "df.loc[df['Volatility'].idxmin()]"
   ]
  },
  {
   "cell_type": "code",
   "execution_count": null,
   "metadata": {},
   "outputs": [],
   "source": []
  }
 ],
 "metadata": {
  "kernelspec": {
   "display_name": "Python 3",
   "language": "python",
   "name": "python3"
  },
  "language_info": {
   "codemirror_mode": {
    "name": "ipython",
    "version": 3
   },
   "file_extension": ".py",
   "mimetype": "text/x-python",
   "name": "python",
   "nbconvert_exporter": "python",
   "pygments_lexer": "ipython3",
   "version": "3.7.3"
  }
 },
 "nbformat": 4,
 "nbformat_minor": 2
}
